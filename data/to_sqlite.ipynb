{
 "cells": [
  {
   "cell_type": "code",
   "execution_count": 103,
   "metadata": {},
   "outputs": [],
   "source": [
    "!del travel.sqlite"
   ]
  },
  {
   "cell_type": "code",
   "execution_count": 104,
   "metadata": {},
   "outputs": [],
   "source": [
    "# Dependencies and boilerplate\n",
    "import pandas as pd\n",
    "import csv\n",
    "from sqlalchemy import Column, Float, Integer, String\n",
    "from sqlalchemy.ext.declarative import declarative_base\n",
    "from sqlalchemy import create_engine\n",
    "from sqlalchemy.orm import Session\n",
    "\n",
    "Base = declarative_base()"
   ]
  },
  {
   "cell_type": "code",
   "execution_count": 105,
   "metadata": {},
   "outputs": [],
   "source": [
    "class airports(Base):\n",
    "    #Tell SQLAlchemy what the table name is and if there's any table-specific arguments it should know about\n",
    "    __tablename__ = 'airports'\n",
    "    __table_args__ = {'sqlite_autoincrement': True}\n",
    "    #tell SQLAlchemy the name of column and its attributes:\n",
    "    id = Column(Integer, primary_key=True, nullable=False) \n",
    "    iati_code = Column(String)\n",
    "    name = Column(String)\n",
    "    city_code = Column(String)\n",
    "    country_code = Column(String)\n",
    "    country = Column(String)\n",
    "    lat = Column(Float(precision=9, asdecimal=True, decimal_return_scale=6))\n",
    "    long = Column(Float(precision=9, asdecimal=True, decimal_return_scale=6))"
   ]
  },
  {
   "cell_type": "code",
   "execution_count": 106,
   "metadata": {},
   "outputs": [],
   "source": [
    "engine = create_engine('sqlite:///travel.sqlite')\n",
    "Base.metadata.create_all(engine)\n",
    "\n",
    "file_name = 'airports.csv'\n",
    "df = pd.read_csv(file_name)\n",
    "df.to_sql(con=engine,index_label='id', name=airports.__tablename__, if_exists='replace')"
   ]
  },
  {
   "cell_type": "code",
   "execution_count": null,
   "metadata": {},
   "outputs": [],
   "source": []
  }
 ],
 "metadata": {
  "kernelspec": {
   "display_name": "Python 3",
   "language": "python",
   "name": "python3"
  },
  "language_info": {
   "codemirror_mode": {
    "name": "ipython",
    "version": 3
   },
   "file_extension": ".py",
   "mimetype": "text/x-python",
   "name": "python",
   "nbconvert_exporter": "python",
   "pygments_lexer": "ipython3",
   "version": "3.6.5"
  }
 },
 "nbformat": 4,
 "nbformat_minor": 2
}
